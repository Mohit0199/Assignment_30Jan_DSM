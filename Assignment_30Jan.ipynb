{
 "cells": [
  {
   "cell_type": "code",
   "execution_count": 6,
   "id": "50e62a28-3000-40da-bfcd-4be9f3bdaaf1",
   "metadata": {},
   "outputs": [
    {
     "name": "stdin",
     "output_type": "stream",
     "text": [
      "Enter your percentage:  59\n"
     ]
    },
    {
     "name": "stdout",
     "output_type": "stream",
     "text": [
      "Your Grade is D\n"
     ]
    }
   ],
   "source": [
    "#1. Write a program to accept percentage from the user and display the grade according to the following \n",
    "# criteria: \n",
    "# Marks Grade \n",
    "# >90 A \n",
    "# >B0 and <=90 B \n",
    "# >=60 and <=80 c \n",
    "# below 60 D\n",
    "\n",
    "per = int(input(\"Enter your percentage: \"))\n",
    "\n",
    "if per > 90:\n",
    "    print(\"Your Grade is A\")\n",
    "elif per > 80 and per <= 90:\n",
    "    print(\"Your Grade is B\")\n",
    "elif per >= 60 and per <= 80:\n",
    "    print(\"Your Grade is C\")\n",
    "elif per < 60:\n",
    "    print(\"Your Grade is D\")"
   ]
  },
  {
   "cell_type": "code",
   "execution_count": 16,
   "id": "4b5b9161-ebe3-4a39-86e6-e6590f8a031f",
   "metadata": {},
   "outputs": [
    {
     "name": "stdin",
     "output_type": "stream",
     "text": [
      "Enter your bike price:  50000\n"
     ]
    },
    {
     "name": "stdout",
     "output_type": "stream",
     "text": [
      "Road tax to be paid is 5%\n"
     ]
    }
   ],
   "source": [
    "# 2. Write a program to accept the cost price of a bike and display the road tax to be paid according to the \n",
    "# following criteria: \n",
    "# Tax Cost Price(in Rs) \n",
    "# 15% >100000 \n",
    "# 10% >50000 and <= 100000 \n",
    "# 5% <= 50000\n",
    "\n",
    "price = int(input(\"Enter your bike price: \"))\n",
    "\n",
    "if price > 100000:\n",
    "    print(\"Road tax to be paid is 15%\")\n",
    "elif price > 50000 and price <= 100000:\n",
    "    print(\"Road tax to be paid is 10%\")\n",
    "elif price <= 50000:\n",
    "    print(\"Road tax to be paid is 5%\")"
   ]
  },
  {
   "cell_type": "code",
   "execution_count": 17,
   "id": "e4d0c95c-c3ee-4e97-86fc-32fa24cfc978",
   "metadata": {},
   "outputs": [
    {
     "name": "stdin",
     "output_type": "stream",
     "text": [
      "Enter city name:  delhi\n"
     ]
    },
    {
     "name": "stdout",
     "output_type": "stream",
     "text": [
      "Monument --> Red Fort\n"
     ]
    }
   ],
   "source": [
    "# 3. Accept any city from the user and display monuments of that eity. \n",
    "# City Maonument \n",
    "# Delhi Red Fort \n",
    "# Agra Taj Mahal \n",
    "# Jaipur Jal Mahal \n",
    "\n",
    "city = input(\"Enter city name: \").title()\n",
    "\n",
    "if city == \"Delhi\":\n",
    "    print(\"Monument --> Red Fort\")\n",
    "elif city == \"Agra\":\n",
    "    print(\"Monument -> Taj Mahal\")\n",
    "elif city == \"Jaipur\":\n",
    "    print(\"Monument -> Jal Mahal\")"
   ]
  },
  {
   "cell_type": "code",
   "execution_count": 22,
   "id": "2ecf0a08-a03d-45be-8cdd-181ed6c89b1d",
   "metadata": {},
   "outputs": [
    {
     "name": "stdin",
     "output_type": "stream",
     "text": [
      "Enter a number:  90\n"
     ]
    },
    {
     "name": "stdout",
     "output_type": "stream",
     "text": [
      "The given number can be divided by '3' 2 times before it is less than or equal to 10.\n"
     ]
    }
   ],
   "source": [
    "# 4. Check how many times a given number can be divided by 3 before it is less than or equal to 10. \n",
    "\n",
    "number = int(input(\"Enter a number: \"))\n",
    "count = 0\n",
    "\n",
    "while number > 10:\n",
    "    number /= 3\n",
    "    count += 1\n",
    "\n",
    "print(f\"The given number can be divided by '3' {count} times before it is less than or equal to 10.\")"
   ]
  },
  {
   "cell_type": "code",
   "execution_count": 23,
   "id": "b52bbc1a-0822-4fd5-8045-dffb662f60ac",
   "metadata": {},
   "outputs": [
    {
     "name": "stdin",
     "output_type": "stream",
     "text": [
      "Enter a number:  5\n"
     ]
    },
    {
     "name": "stdout",
     "output_type": "stream",
     "text": [
      "The factorial of 5 is 120.\n"
     ]
    }
   ],
   "source": [
    "# 5. Why and When to Use while Loop in Python give a detailed description with example \n",
    "\n",
    "## The while loop in Python is used to repeatedly execute a block of code as long as a condition is true. \n",
    "## It's useful when we need to perform a task multiple times, and the number of iterations is not known beforehand.\n",
    "## Or when we want to run code repeatedly for some condition.\n",
    "\n",
    "number = int(input(\"Enter a number: \"))\n",
    "factorial = 1\n",
    "i = 1\n",
    "\n",
    "while i <= number:\n",
    "    factorial *= i\n",
    "    i += 1\n",
    "\n",
    "print(f\"The factorial of {number} is {factorial}.\")"
   ]
  },
  {
   "cell_type": "code",
   "execution_count": 25,
   "id": "a4e93db0-b090-4323-9278-8234d7e0869b",
   "metadata": {},
   "outputs": [
    {
     "name": "stdout",
     "output_type": "stream",
     "text": [
      "Square pattern\n",
      "* * * * * \n",
      "* * * * * \n",
      "* * * * * \n",
      "* * * * * \n",
      "* * * * * \n",
      "\n",
      "Right Triangle pattern\n",
      "* \n",
      "* * \n",
      "* * * \n",
      "* * * * \n",
      "* * * * * \n",
      "\n",
      "Pyramid pattern\n",
      "        * \n",
      "      * * * \n",
      "    * * * * * \n",
      "  * * * * * * * \n",
      "* * * * * * * * * \n"
     ]
    }
   ],
   "source": [
    "# 6. Use nested while loop to print 3 different pattern.\n",
    "\n",
    "## Square pattern:\n",
    "print(\"Square pattern\")\n",
    "\n",
    "n = 5\n",
    "i = 1\n",
    "while i <= n:\n",
    "    j = 1\n",
    "    while j <= n:\n",
    "        print(\"*\", end=\" \")\n",
    "        j += 1\n",
    "    print()\n",
    "    i += 1\n",
    "\n",
    "## Right Triangle pattern\n",
    "print(\"\\nRight Triangle pattern\")\n",
    "\n",
    "n = 5\n",
    "i = 1\n",
    "while i <= n:\n",
    "    j = 1\n",
    "    while j <= i:\n",
    "        print(\"*\", end=\" \")\n",
    "        j += 1\n",
    "    print()\n",
    "    i += 1\n",
    "\n",
    "## Pyramid pattern\n",
    "print(\"\\nPyramid pattern\")\n",
    "\n",
    "n = 5\n",
    "i = 1\n",
    "while i <= n:\n",
    "    j = 1\n",
    "    while j <= n - i:\n",
    "        print(\" \", end=\" \")\n",
    "        j += 1\n",
    "    j = 1\n",
    "    while j <= 2 * i - 1:\n",
    "        print(\"*\", end=\" \")\n",
    "        j += 1\n",
    "    print()\n",
    "    i += 1"
   ]
  },
  {
   "cell_type": "code",
   "execution_count": 32,
   "id": "63a304ef-5761-44b8-9c32-582542070454",
   "metadata": {},
   "outputs": [
    {
     "name": "stdout",
     "output_type": "stream",
     "text": [
      "10\n",
      "9\n",
      "8\n",
      "7\n",
      "6\n",
      "5\n",
      "4\n",
      "3\n",
      "2\n",
      "1\n"
     ]
    }
   ],
   "source": [
    "# 7. Reverse a while loop to display numbers from 10 to 1.\n",
    "\n",
    "number = 10\n",
    "\n",
    "while number >= 1:\n",
    "    print(number)\n",
    "    number -= 1"
   ]
  },
  {
   "cell_type": "code",
   "execution_count": 39,
   "id": "5a4cebd1-d42b-4120-b2ff-87c7fd99abf9",
   "metadata": {},
   "outputs": [
    {
     "name": "stdout",
     "output_type": "stream",
     "text": [
      "10\n",
      "9\n",
      "8\n",
      "7\n",
      "6\n",
      "5\n",
      "4\n",
      "3\n",
      "2\n",
      "1\n"
     ]
    }
   ],
   "source": [
    "# 8. Reverse a while loop to display numbers from 10to 1 \n",
    "\n",
    "number = 10\n",
    "count = 0\n",
    "\n",
    "while count < 10:\n",
    "    print(number)\n",
    "    number -= 1\n",
    "    count += 1"
   ]
  },
  {
   "cell_type": "code",
   "execution_count": null,
   "id": "cd34be82-fdcb-4850-a5e2-b8b30dd4b761",
   "metadata": {},
   "outputs": [],
   "source": []
  },
  {
   "cell_type": "code",
   "execution_count": null,
   "id": "be11a5b0-0feb-436f-bd70-4744abff3658",
   "metadata": {},
   "outputs": [],
   "source": []
  }
 ],
 "metadata": {
  "kernelspec": {
   "display_name": "Python 3 (ipykernel)",
   "language": "python",
   "name": "python3"
  },
  "language_info": {
   "codemirror_mode": {
    "name": "ipython",
    "version": 3
   },
   "file_extension": ".py",
   "mimetype": "text/x-python",
   "name": "python",
   "nbconvert_exporter": "python",
   "pygments_lexer": "ipython3",
   "version": "3.10.8"
  }
 },
 "nbformat": 4,
 "nbformat_minor": 5
}
